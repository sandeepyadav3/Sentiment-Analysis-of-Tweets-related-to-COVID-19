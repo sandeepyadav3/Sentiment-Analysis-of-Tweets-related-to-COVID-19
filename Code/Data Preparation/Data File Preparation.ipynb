{
 "cells": [
  {
   "cell_type": "markdown",
   "id": "radio-parker",
   "metadata": {},
   "source": [
    "# Tweet IDs file preparation\n",
    "\n",
    "Selecting required amount of data from the 37 files with tweet ids "
   ]
  },
  {
   "cell_type": "code",
   "execution_count": 10,
   "id": "3d28b76f",
   "metadata": {},
   "outputs": [
    {
     "name": "stdout",
     "output_type": "stream",
     "text": [
      "0\n",
      "1\n",
      "2\n",
      "3\n",
      "4\n",
      "5\n",
      "6\n",
      "7\n",
      "8\n",
      "9\n",
      "10\n",
      "11\n",
      "12\n",
      "13\n",
      "14\n",
      "15\n",
      "16\n",
      "17\n",
      "18\n",
      "19\n",
      "20\n",
      "21\n",
      "22\n",
      "23\n",
      "24\n",
      "25\n",
      "26\n",
      "27\n",
      "28\n",
      "29\n",
      "30\n",
      "31\n",
      "32\n",
      "33\n",
      "34\n",
      "35\n"
     ]
    }
   ],
   "source": [
    "import pandas as pd\n",
    "\n",
    "\n",
    "\n",
    "with open(\"F:\\MS IM\\IS 417\\Data\\coronavirus-tweet-ids.txt\", \"w\") as output:\n",
    "    length = range(10)\n",
    "    file_path = 'F:\\MS IM\\IS 417\\Data\\coronavirus-through-03-December-2020-0'\n",
    "    for i in length:    \n",
    "        data = pd.read_csv(file_path + str(i) + '.txt', sep=\" \", header=None)\n",
    "        output.write(data.sample(5000).to_string(index=False, header=False))\n",
    "        print(i)\n",
    "        output.write('\\n')\n",
    "    \n",
    "    length = range(10, 36)\n",
    "    file_path = 'F:\\MS IM\\IS 417\\Data\\coronavirus-through-03-December-2020-'\n",
    "    for i in length:    \n",
    "        data = pd.read_csv(file_path + str(i) + '.txt', sep=\" \", header=None)\n",
    "        output.write(data.sample(5000).to_string(index=False, header=False))\n",
    "        print(i)\n",
    "        output.write('\\n')\n",
    "output.close()"
   ]
  },
  {
   "cell_type": "code",
   "execution_count": 5,
   "id": "21494833",
   "metadata": {},
   "outputs": [],
   "source": []
  },
  {
   "cell_type": "code",
   "execution_count": null,
   "id": "99ad1298",
   "metadata": {},
   "outputs": [],
   "source": []
  }
 ],
 "metadata": {
  "kernelspec": {
   "display_name": "Python 3",
   "language": "python",
   "name": "python3"
  },
  "language_info": {
   "codemirror_mode": {
    "name": "ipython",
    "version": 3
   },
   "file_extension": ".py",
   "mimetype": "text/x-python",
   "name": "python",
   "nbconvert_exporter": "python",
   "pygments_lexer": "ipython3",
   "version": "3.8.8"
  }
 },
 "nbformat": 4,
 "nbformat_minor": 5
}
